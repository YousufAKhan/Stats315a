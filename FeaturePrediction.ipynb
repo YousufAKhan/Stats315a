{
  "nbformat": 4,
  "nbformat_minor": 0,
  "metadata": {
    "colab": {
      "name": "stats315a_HWK3.ipynb",
      "provenance": [],
      "collapsed_sections": []
    },
    "kernelspec": {
      "name": "ir",
      "display_name": "R"
    }
  },
  "cells": [
    {
      "cell_type": "markdown",
      "metadata": {
        "id": "mJE6mhv_wiwz"
      },
      "source": [
        "Members: Adam Papini, Gary Burnett, Yousuf A. Khan\n",
        "\n",
        "The code below is for problem #3"
      ]
    },
    {
      "cell_type": "code",
      "metadata": {
        "id": "dRX1Uq9EwqS1",
        "colab": {
          "base_uri": "https://localhost:8080/"
        },
        "outputId": "80bbca92-4a60-47de-ae67-30bf9896c959"
      },
      "source": [
        "\n",
        "\n",
        "library(readr)\n",
        "install.packages(\"caret\")\n",
        "\n",
        "library(caret)\n",
        "\n",
        "\n",
        "\n"
      ],
      "execution_count": null,
      "outputs": [
        {
          "output_type": "stream",
          "text": [
            "Installing package into ‘/usr/local/lib/R/site-library’\n",
            "(as ‘lib’ is unspecified)\n",
            "\n",
            "Loading required package: lattice\n",
            "\n",
            "Loading required package: ggplot2\n",
            "\n",
            "Warning message in system(\"timedatectl\", intern = TRUE):\n",
            "“running command 'timedatectl' had status 1”\n"
          ],
          "name": "stderr"
        }
      ]
    },
    {
      "cell_type": "code",
      "metadata": {
        "colab": {
          "base_uri": "https://localhost:8080/"
        },
        "id": "rYsH90WrBxrx",
        "outputId": "191b0833-0878-40bc-a3a6-a4d356240a34"
      },
      "source": [
        "install.packages(\"glmnet\")\n",
        "library(glmnet)"
      ],
      "execution_count": null,
      "outputs": [
        {
          "output_type": "stream",
          "text": [
            "Installing package into ‘/usr/local/lib/R/site-library’\n",
            "(as ‘lib’ is unspecified)\n",
            "\n",
            "also installing the dependency ‘shape’\n",
            "\n",
            "\n",
            "Loading required package: Matrix\n",
            "\n",
            "\n",
            "Attaching package: ‘Matrix’\n",
            "\n",
            "\n",
            "The following objects are masked from ‘package:tidyr’:\n",
            "\n",
            "    expand, pack, unpack\n",
            "\n",
            "\n",
            "Loaded glmnet 4.1-1\n",
            "\n"
          ],
          "name": "stderr"
        }
      ]
    },
    {
      "cell_type": "code",
      "metadata": {
        "colab": {
          "base_uri": "https://localhost:8080/"
        },
        "id": "EMpKWJqv9-Y-",
        "outputId": "e25ea919-2dd8-480a-e368-a8571ff78f31"
      },
      "source": [
        "train_data <- read_csv(\"train_data.csv\")\n",
        "test_data <- read_csv(\"test_data.csv\")"
      ],
      "execution_count": null,
      "outputs": [
        {
          "output_type": "stream",
          "text": [
            "Warning message:\n",
            "“Missing column names filled in: 'X1' [1]”\n",
            "\n",
            "\u001b[36m──\u001b[39m \u001b[1m\u001b[1mColumn specification\u001b[1m\u001b[22m \u001b[36m────────────────────────────────────────────────────────\u001b[39m\n",
            "cols(\n",
            "  .default = col_double(),\n",
            "  date = \u001b[34mcol_date(format = \"\")\u001b[39m,\n",
            "  county = \u001b[31mcol_character()\u001b[39m\n",
            ")\n",
            "\u001b[36mℹ\u001b[39m Use \u001b[30m\u001b[47m\u001b[30m\u001b[47m`spec()`\u001b[47m\u001b[30m\u001b[49m\u001b[39m for the full column specifications.\n",
            "\n",
            "\n",
            "Warning message:\n",
            "“Missing column names filled in: 'X1' [1]”\n",
            "\n",
            "\u001b[36m──\u001b[39m \u001b[1m\u001b[1mColumn specification\u001b[1m\u001b[22m \u001b[36m────────────────────────────────────────────────────────\u001b[39m\n",
            "cols(\n",
            "  .default = col_double(),\n",
            "  date = \u001b[34mcol_date(format = \"\")\u001b[39m,\n",
            "  county = \u001b[31mcol_character()\u001b[39m\n",
            ")\n",
            "\u001b[36mℹ\u001b[39m Use \u001b[30m\u001b[47m\u001b[30m\u001b[47m`spec()`\u001b[47m\u001b[30m\u001b[49m\u001b[39m for the full column specifications.\n",
            "\n",
            "\n"
          ],
          "name": "stderr"
        }
      ]
    },
    {
      "cell_type": "code",
      "metadata": {
        "id": "MeikHMup0fMA"
      },
      "source": [
        "\n",
        "test_data <- subset(test_data, select = -c(X1))   #remove index col\n",
        "train_data <- subset(train_data, select = -c(X1))\n",
        "\n",
        "test_data$county <- as.factor(test_data$county)  #change country to levels \n",
        "train_data$county <- as.factor(train_data$county)\n",
        "\n",
        "\n",
        "  \n"
      ],
      "execution_count": null,
      "outputs": []
    },
    {
      "cell_type": "code",
      "metadata": {
        "id": "1BzmoF2p-3zt"
      },
      "source": [
        "log_loss <- function (data,\n",
        "                      lev = NULL,\n",
        "                       model = NULL) {\n",
        "  out <- abs(log(1+data$obs) - log(1+data$pred)) \n",
        "  names(out) <- \"MAD\"\n",
        "  out}"
      ],
      "execution_count": null,
      "outputs": []
    },
    {
      "cell_type": "code",
      "metadata": {
        "id": "BDbI6lDly2v9"
      },
      "source": [
        "#\n",
        "\n",
        "train_data_new <-train_data[,!names(train_data) %in% c(\"county\", \"date\", \"response\")]\n",
        "train_data_new <- scale(train_data_new)\n",
        "\n",
        "train_data_new <- data.frame(train_data_new, \"response\" = c(train_data$response))\n",
        "train_data <- train_data_new"
      ],
      "execution_count": null,
      "outputs": []
    },
    {
      "cell_type": "code",
      "metadata": {
        "id": "Hq2RlB3w83f2"
      },
      "source": [
        ""
      ],
      "execution_count": null,
      "outputs": []
    },
    {
      "cell_type": "code",
      "metadata": {
        "id": "Bu9RNv48xMg8",
        "colab": {
          "base_uri": "https://localhost:8080/"
        },
        "outputId": "7c851a15-fd2e-4731-906e-baabea7c08b4"
      },
      "source": [
        "# Define training control\n",
        "set.seed(123)\n",
        "library(tidyverse)\n",
        "library(caret)\n",
        "train.control <- trainControl(method = \"repeatedcv\", \n",
        "                              number = 10, repeats = 10)\n",
        "# Train the model\n",
        "model <- train(response ~., data = train_data, method = \"lm\",\n",
        "               trControl = train.control)\n",
        "# Summarize the results\n",
        "print(model)"
      ],
      "execution_count": null,
      "outputs": [
        {
          "output_type": "stream",
          "text": [
            "── \u001b[1mAttaching packages\u001b[22m ─────────────────────────────────────── tidyverse 1.3.0 ──\n",
            "\n",
            "\u001b[32m✔\u001b[39m \u001b[34mtibble \u001b[39m 3.1.0     \u001b[32m✔\u001b[39m \u001b[34mdplyr  \u001b[39m 1.0.4\n",
            "\u001b[32m✔\u001b[39m \u001b[34mtidyr  \u001b[39m 1.1.3     \u001b[32m✔\u001b[39m \u001b[34mstringr\u001b[39m 1.4.0\n",
            "\u001b[32m✔\u001b[39m \u001b[34mpurrr  \u001b[39m 0.3.4     \u001b[32m✔\u001b[39m \u001b[34mforcats\u001b[39m 0.5.1\n",
            "\n",
            "── \u001b[1mConflicts\u001b[22m ────────────────────────────────────────── tidyverse_conflicts() ──\n",
            "\u001b[31m✖\u001b[39m \u001b[34mdplyr\u001b[39m::\u001b[32mfilter()\u001b[39m masks \u001b[34mstats\u001b[39m::filter()\n",
            "\u001b[31m✖\u001b[39m \u001b[34mdplyr\u001b[39m::\u001b[32mlag()\u001b[39m    masks \u001b[34mstats\u001b[39m::lag()\n",
            "\u001b[31m✖\u001b[39m \u001b[34mpurrr\u001b[39m::\u001b[32mlift()\u001b[39m   masks \u001b[34mcaret\u001b[39m::lift()\n",
            "\n"
          ],
          "name": "stderr"
        },
        {
          "output_type": "stream",
          "text": [
            "Linear Regression \n",
            "\n",
            "18300 samples\n",
            "   31 predictor\n",
            "\n",
            "No pre-processing\n",
            "Resampling: Cross-Validated (10 fold, repeated 10 times) \n",
            "Summary of sample sizes: 16469, 16469, 16472, 16470, 16469, 16471, ... \n",
            "Resampling results:\n",
            "\n",
            "  RMSE      Rsquared   MAE     \n",
            "  14.31433  0.6471735  9.798148\n",
            "\n",
            "Tuning parameter 'intercept' was held constant at a value of TRUE\n"
          ],
          "name": "stdout"
        }
      ]
    },
    {
      "cell_type": "code",
      "metadata": {
        "id": "ASW5x7NvxMjh"
      },
      "source": [
        ""
      ],
      "execution_count": null,
      "outputs": []
    },
    {
      "cell_type": "code",
      "metadata": {
        "id": "OT-1AxzH33fU"
      },
      "source": [
        "set.seed(123)\n",
        "library(MLmetrics)\n",
        "lambda <- 10^seq(-3, 3, length = 100)\n",
        "\n",
        "log_loss <- function (data,\n",
        "                        lev = NULL,\n",
        "                        model = NULL) {\n",
        "\n",
        "  out <- abs(log(1+data$obs) - log(1+data$pred)) \n",
        "  names(out) <- \"MAD\"\n",
        "  out\n",
        "}\n",
        "\n",
        "robustControl <- trainControl(summaryFunction = madSummary)\n",
        "\n",
        "\n",
        "earthFit <- train(response ~ .,\n",
        "                  data = train_data, \n",
        "                  method = \"lm\",\n",
        "                  metric = \"MAD\",\n",
        "                  maximize = FALSE,\n",
        "                  trControl = robustControl)\n",
        "                  #tuneGrid = expand.grid(alpha = 0, lambda = 1.6))\n",
        "\n",
        "#ridge <- train(\n",
        "#  response ~., data = train_data, method = \"glmnet\", metric = \"F1\",\n",
        "#  trControl = trainControl(summaryFunction = f1),\n",
        " #  tuneGrid = expand.grid(alpha = 0, lambda = lambda))\n",
        "\n",
        "print(earthFit)"
      ],
      "execution_count": null,
      "outputs": []
    },
    {
      "cell_type": "code",
      "metadata": {
        "id": "rreSaDo4uWMv",
        "colab": {
          "base_uri": "https://localhost:8080/"
        },
        "outputId": "f0daf6e4-21b5-4746-eef5-572ff6608251"
      },
      "source": [
        "set.seed(123)\n",
        "lambda <- 10^seq(-3, 3, length = 100)\n",
        "lasso <- train(\n",
        "  response ~., data = train_data, method = \"glmnet\",\n",
        "  trControl = trainControl(\"cv\", number = 10),\n",
        "  tuneGrid = expand.grid(alpha = 1, lambda = lambda)\n",
        "  )\n",
        "print(lasso)\n"
      ],
      "execution_count": null,
      "outputs": [
        {
          "output_type": "stream",
          "text": [
            "Warning message in nominalTrainWorkflow(x = x, y = y, wts = weights, info = trainInfo, :\n",
            "“There were missing values in resampled performance measures.”\n"
          ],
          "name": "stderr"
        },
        {
          "output_type": "stream",
          "text": [
            "glmnet \n",
            "\n",
            "18300 samples\n",
            "   31 predictor\n",
            "\n",
            "No pre-processing\n",
            "Resampling: Cross-Validated (10 fold) \n",
            "Summary of sample sizes: 16469, 16469, 16472, 16470, 16469, 16471, ... \n",
            "Resampling results across tuning parameters:\n",
            "\n",
            "  lambda        RMSE      Rsquared   MAE      \n",
            "  1.000000e-03  14.32314  0.6467688   9.802381\n",
            "  1.149757e-03  14.32314  0.6467688   9.802381\n",
            "  1.321941e-03  14.32314  0.6467688   9.802381\n",
            "  1.519911e-03  14.32314  0.6467688   9.802381\n",
            "  1.747528e-03  14.32314  0.6467688   9.802378\n",
            "  2.009233e-03  14.32317  0.6467675   9.802365\n",
            "  2.310130e-03  14.32327  0.6467626   9.802342\n",
            "  2.656088e-03  14.32339  0.6467574   9.802306\n",
            "  3.053856e-03  14.32365  0.6467458   9.802295\n",
            "  3.511192e-03  14.32393  0.6467330   9.802303\n",
            "  4.037017e-03  14.32430  0.6467153   9.802338\n",
            "  4.641589e-03  14.32480  0.6466908   9.802395\n",
            "  5.336699e-03  14.32541  0.6466610   9.802489\n",
            "  6.135907e-03  14.32613  0.6466249   9.802635\n",
            "  7.054802e-03  14.32703  0.6465805   9.802820\n",
            "  8.111308e-03  14.32813  0.6465267   9.803069\n",
            "  9.326033e-03  14.32946  0.6464607   9.803369\n",
            "  1.072267e-02  14.33112  0.6463787   9.803783\n",
            "  1.232847e-02  14.33316  0.6462782   9.804410\n",
            "  1.417474e-02  14.33572  0.6461519   9.805463\n",
            "  1.629751e-02  14.33883  0.6459987   9.807094\n",
            "  1.873817e-02  14.34266  0.6458099   9.809455\n",
            "  2.154435e-02  14.34725  0.6455848   9.812648\n",
            "  2.477076e-02  14.35197  0.6453535   9.815906\n",
            "  2.848036e-02  14.35629  0.6451443   9.819216\n",
            "  3.274549e-02  14.36106  0.6449159   9.823083\n",
            "  3.764936e-02  14.36695  0.6446311   9.828003\n",
            "  4.328761e-02  14.37369  0.6443062   9.834035\n",
            "  4.977024e-02  14.38152  0.6439273   9.841168\n",
            "  5.722368e-02  14.39170  0.6434339   9.850494\n",
            "  6.579332e-02  14.40532  0.6427681   9.863395\n",
            "  7.564633e-02  14.42215  0.6419456   9.879386\n",
            "  8.697490e-02  14.43749  0.6412001   9.891415\n",
            "  1.000000e-01  14.45757  0.6402187   9.906716\n",
            "  1.149757e-01  14.48149  0.6390428   9.926177\n",
            "  1.321941e-01  14.50118  0.6380777   9.943409\n",
            "  1.519911e-01  14.51008  0.6376514   9.949621\n",
            "  1.747528e-01  14.51422  0.6374739   9.948830\n",
            "  2.009233e-01  14.51994  0.6372293   9.947714\n",
            "  2.310130e-01  14.52667  0.6369464   9.946650\n",
            "  2.656088e-01  14.53420  0.6366381   9.944756\n",
            "  3.053856e-01  14.54396  0.6362374   9.943807\n",
            "  3.511192e-01  14.55552  0.6357734   9.943216\n",
            "  4.037017e-01  14.56671  0.6353674   9.941516\n",
            "  4.641589e-01  14.58101  0.6348498   9.941272\n",
            "  5.336699e-01  14.59990  0.6341550   9.943558\n",
            "  6.135907e-01  14.62217  0.6333596   9.947630\n",
            "  7.054802e-01  14.64634  0.6325674   9.953152\n",
            "  8.111308e-01  14.67696  0.6315669   9.963417\n",
            "  9.326033e-01  14.71746  0.6302009   9.981147\n",
            "  1.072267e+00  14.76412  0.6287050  10.004337\n",
            "  1.232847e+00  14.81351  0.6273556  10.029999\n",
            "  1.417474e+00  14.86259  0.6264184  10.055679\n",
            "  1.629751e+00  14.92652  0.6251582  10.093811\n",
            "  1.873817e+00  15.01005  0.6234443  10.147268\n",
            "  2.154435e+00  15.11895  0.6210759  10.221874\n",
            "  2.477076e+00  15.26106  0.6177563  10.325707\n",
            "  2.848036e+00  15.43114  0.6140191  10.451444\n",
            "  3.274549e+00  15.63344  0.6099820  10.600524\n",
            "  3.764936e+00  15.89664  0.6040011  10.804004\n",
            "  4.328761e+00  16.23762  0.5949567  11.077274\n",
            "  4.977024e+00  16.61058  0.5867262  11.392679\n",
            "  5.722368e+00  17.02051  0.5803713  11.745296\n",
            "  6.579332e+00  17.51808  0.5729992  12.168407\n",
            "  7.564633e+00  18.15327  0.5601379  12.697605\n",
            "  8.697490e+00  18.95886  0.5356577  13.356731\n",
            "  1.000000e+01  19.88518  0.4999923  14.103045\n",
            "  1.149757e+01  20.76599  0.4849613  14.763657\n",
            "  1.321941e+01  21.76671  0.4848818  15.492714\n",
            "  1.519911e+01  23.02254  0.4848818  16.416042\n",
            "  1.747528e+01  24.08628        NaN  17.207531\n",
            "  2.009233e+01  24.08628        NaN  17.207531\n",
            "  2.310130e+01  24.08628        NaN  17.207531\n",
            "  2.656088e+01  24.08628        NaN  17.207531\n",
            "  3.053856e+01  24.08628        NaN  17.207531\n",
            "  3.511192e+01  24.08628        NaN  17.207531\n",
            "  4.037017e+01  24.08628        NaN  17.207531\n",
            "  4.641589e+01  24.08628        NaN  17.207531\n",
            "  5.336699e+01  24.08628        NaN  17.207531\n",
            "  6.135907e+01  24.08628        NaN  17.207531\n",
            "  7.054802e+01  24.08628        NaN  17.207531\n",
            "  8.111308e+01  24.08628        NaN  17.207531\n",
            "  9.326033e+01  24.08628        NaN  17.207531\n",
            "  1.072267e+02  24.08628        NaN  17.207531\n",
            "  1.232847e+02  24.08628        NaN  17.207531\n",
            "  1.417474e+02  24.08628        NaN  17.207531\n",
            "  1.629751e+02  24.08628        NaN  17.207531\n",
            "  1.873817e+02  24.08628        NaN  17.207531\n",
            "  2.154435e+02  24.08628        NaN  17.207531\n",
            "  2.477076e+02  24.08628        NaN  17.207531\n",
            "  2.848036e+02  24.08628        NaN  17.207531\n",
            "  3.274549e+02  24.08628        NaN  17.207531\n",
            "  3.764936e+02  24.08628        NaN  17.207531\n",
            "  4.328761e+02  24.08628        NaN  17.207531\n",
            "  4.977024e+02  24.08628        NaN  17.207531\n",
            "  5.722368e+02  24.08628        NaN  17.207531\n",
            "  6.579332e+02  24.08628        NaN  17.207531\n",
            "  7.564633e+02  24.08628        NaN  17.207531\n",
            "  8.697490e+02  24.08628        NaN  17.207531\n",
            "  1.000000e+03  24.08628        NaN  17.207531\n",
            "\n",
            "Tuning parameter 'alpha' was held constant at a value of 1\n",
            "RMSE was used to select the optimal model using the smallest value.\n",
            "The final values used for the model were alpha = 1 and lambda = 0.001747528.\n"
          ],
          "name": "stdout"
        }
      ]
    },
    {
      "cell_type": "code",
      "metadata": {
        "id": "8OXEuJrj9E-A"
      },
      "source": [
        ""
      ],
      "execution_count": null,
      "outputs": []
    }
  ]
}